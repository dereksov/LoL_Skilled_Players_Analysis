{
 "cells": [
  {
   "cell_type": "code",
   "execution_count": 1,
   "metadata": {},
   "outputs": [],
   "source": [
    "#imports\n",
    "%matplotlib inline\n",
    "import pandas as pd\n",
    "import numpy as np\n",
    "import time\n",
    "import requests\n",
    "import bs4\n",
    "import json\n",
    "from flatten_json import flatten\n",
    "from api import api"
   ]
  },
  {
   "cell_type": "code",
   "execution_count": 2,
   "metadata": {},
   "outputs": [],
   "source": [
    "kr = api(open(\"apikey.txt\", \"r\").read(),\"kr\")"
   ]
  },
  {
   "cell_type": "code",
   "execution_count": 3,
   "metadata": {},
   "outputs": [],
   "source": [
    "kr.retrieve_sum_ids(\"CHALLENGER\")"
   ]
  },
  {
   "cell_type": "code",
   "execution_count": 4,
   "metadata": {},
   "outputs": [],
   "source": [
    "kr.sum_ids = [kr.sum_ids[0]]"
   ]
  },
  {
   "cell_type": "code",
   "execution_count": 5,
   "metadata": {},
   "outputs": [
    {
     "data": {
      "text/plain": [
       "['3iHv5pGVlyyFUFpy9aHa76M2zrHeYHV0fzrTY7omUNTgOmg']"
      ]
     },
     "execution_count": 5,
     "metadata": {},
     "output_type": "execute_result"
    }
   ],
   "source": [
    "kr.sum_ids"
   ]
  },
  {
   "cell_type": "code",
   "execution_count": 6,
   "metadata": {},
   "outputs": [],
   "source": [
    "kr.retrieve_acc_ids()"
   ]
  },
  {
   "cell_type": "code",
   "execution_count": 7,
   "metadata": {},
   "outputs": [
    {
     "data": {
      "text/plain": [
       "['fMzg3xXcmAo_CI6ACXOA7OvRm3CB20jiJi4nUbjEC2Ks8tk']"
      ]
     },
     "execution_count": 7,
     "metadata": {},
     "output_type": "execute_result"
    }
   ],
   "source": [
    "kr.acc_ids"
   ]
  },
  {
   "cell_type": "code",
   "execution_count": 8,
   "metadata": {},
   "outputs": [],
   "source": [
    "kr.retrieve_gam_ids()\n",
    "kr.gam_ids = [kr.gam_ids[0]]"
   ]
  },
  {
   "cell_type": "code",
   "execution_count": 9,
   "metadata": {},
   "outputs": [],
   "source": [
    "kr.export_game_list()"
   ]
  },
  {
   "cell_type": "code",
   "execution_count": 10,
   "metadata": {},
   "outputs": [],
   "source": [
    "kr.retrieve_game_info()"
   ]
  },
  {
   "cell_type": "code",
   "execution_count": 11,
   "metadata": {},
   "outputs": [],
   "source": [
    "kr.dataframe()"
   ]
  },
  {
   "cell_type": "code",
   "execution_count": 12,
   "metadata": {},
   "outputs": [
    {
     "data": {
      "text/html": [
       "<div>\n",
       "<style scoped>\n",
       "    .dataframe tbody tr th:only-of-type {\n",
       "        vertical-align: middle;\n",
       "    }\n",
       "\n",
       "    .dataframe tbody tr th {\n",
       "        vertical-align: top;\n",
       "    }\n",
       "\n",
       "    .dataframe thead th {\n",
       "        text-align: right;\n",
       "    }\n",
       "</style>\n",
       "<table border=\"1\" class=\"dataframe\">\n",
       "  <thead>\n",
       "    <tr style=\"text-align: right;\">\n",
       "      <th></th>\n",
       "      <th>gameId</th>\n",
       "      <th>platformId</th>\n",
       "      <th>gameCreation</th>\n",
       "      <th>gameDuration</th>\n",
       "      <th>queueId</th>\n",
       "      <th>mapId</th>\n",
       "      <th>seasonId</th>\n",
       "      <th>gameVersion</th>\n",
       "      <th>gameMode</th>\n",
       "      <th>gameType</th>\n",
       "      <th>...</th>\n",
       "      <th>participantIdentities_8_player_profileIcon</th>\n",
       "      <th>participantIdentities_9_participantId</th>\n",
       "      <th>participantIdentities_9_player_platformId</th>\n",
       "      <th>participantIdentities_9_player_accountId</th>\n",
       "      <th>participantIdentities_9_player_summonerName</th>\n",
       "      <th>participantIdentities_9_player_summonerId</th>\n",
       "      <th>participantIdentities_9_player_currentPlatformId</th>\n",
       "      <th>participantIdentities_9_player_currentAccountId</th>\n",
       "      <th>participantIdentities_9_player_matchHistoryUri</th>\n",
       "      <th>participantIdentities_9_player_profileIcon</th>\n",
       "    </tr>\n",
       "  </thead>\n",
       "  <tbody>\n",
       "    <tr>\n",
       "      <th>0</th>\n",
       "      <td>4525023746</td>\n",
       "      <td>KR</td>\n",
       "      <td>1595493878522</td>\n",
       "      <td>1516</td>\n",
       "      <td>420</td>\n",
       "      <td>11</td>\n",
       "      <td>13</td>\n",
       "      <td>10.15.328.8759</td>\n",
       "      <td>CLASSIC</td>\n",
       "      <td>MATCHED_GAME</td>\n",
       "      <td>...</td>\n",
       "      <td>3542</td>\n",
       "      <td>10</td>\n",
       "      <td>KR</td>\n",
       "      <td>fMzg3xXcmAo_CI6ACXOA7OvRm3CB20jiJi4nUbjEC2Ks8tk</td>\n",
       "      <td>T1 BurdoI</td>\n",
       "      <td>3iHv5pGVlyyFUFpy9aHa76M2zrHeYHV0fzrTY7omUNTgOmg</td>\n",
       "      <td>KR</td>\n",
       "      <td>fMzg3xXcmAo_CI6ACXOA7OvRm3CB20jiJi4nUbjEC2Ks8tk</td>\n",
       "      <td>/v1/stats/player_history/KR/210125512</td>\n",
       "      <td>12</td>\n",
       "    </tr>\n",
       "  </tbody>\n",
       "</table>\n",
       "<p>1 rows × 1410 columns</p>\n",
       "</div>"
      ],
      "text/plain": [
       "       gameId platformId   gameCreation  gameDuration  queueId  mapId  \\\n",
       "0  4525023746         KR  1595493878522          1516      420     11   \n",
       "\n",
       "   seasonId     gameVersion gameMode      gameType  ...  \\\n",
       "0        13  10.15.328.8759  CLASSIC  MATCHED_GAME  ...   \n",
       "\n",
       "   participantIdentities_8_player_profileIcon  \\\n",
       "0                                        3542   \n",
       "\n",
       "  participantIdentities_9_participantId  \\\n",
       "0                                    10   \n",
       "\n",
       "   participantIdentities_9_player_platformId  \\\n",
       "0                                         KR   \n",
       "\n",
       "          participantIdentities_9_player_accountId  \\\n",
       "0  fMzg3xXcmAo_CI6ACXOA7OvRm3CB20jiJi4nUbjEC2Ks8tk   \n",
       "\n",
       "   participantIdentities_9_player_summonerName  \\\n",
       "0                                    T1 BurdoI   \n",
       "\n",
       "         participantIdentities_9_player_summonerId  \\\n",
       "0  3iHv5pGVlyyFUFpy9aHa76M2zrHeYHV0fzrTY7omUNTgOmg   \n",
       "\n",
       "   participantIdentities_9_player_currentPlatformId  \\\n",
       "0                                                KR   \n",
       "\n",
       "   participantIdentities_9_player_currentAccountId  \\\n",
       "0  fMzg3xXcmAo_CI6ACXOA7OvRm3CB20jiJi4nUbjEC2Ks8tk   \n",
       "\n",
       "   participantIdentities_9_player_matchHistoryUri  \\\n",
       "0           /v1/stats/player_history/KR/210125512   \n",
       "\n",
       "   participantIdentities_9_player_profileIcon  \n",
       "0                                          12  \n",
       "\n",
       "[1 rows x 1410 columns]"
      ]
     },
     "execution_count": 12,
     "metadata": {},
     "output_type": "execute_result"
    }
   ],
   "source": [
    "kr.df"
   ]
  },
  {
   "cell_type": "code",
   "execution_count": 13,
   "metadata": {},
   "outputs": [],
   "source": [
    "kr.retrieve_sum_ids(\"GRANDMASTER\")"
   ]
  },
  {
   "cell_type": "code",
   "execution_count": 14,
   "metadata": {},
   "outputs": [
    {
     "data": {
      "text/plain": [
       "['DgDH78_b5BG4948rVFAER-QaL7lu3fF3gGBx2CP4QjEdIs0']"
      ]
     },
     "execution_count": 14,
     "metadata": {},
     "output_type": "execute_result"
    }
   ],
   "source": [
    "kr.sum_ids = [kr.sum_ids[0]]\n",
    "kr.sum_ids"
   ]
  },
  {
   "cell_type": "code",
   "execution_count": 15,
   "metadata": {},
   "outputs": [
    {
     "data": {
      "text/plain": [
       "['8vXuEHj5B5e_8snBz8XDRHfa0D-LQdzSktSg1GNKuImqG1bAOIhSH2vv']"
      ]
     },
     "execution_count": 15,
     "metadata": {},
     "output_type": "execute_result"
    }
   ],
   "source": [
    "kr.retrieve_acc_ids()\n",
    "kr.acc_ids"
   ]
  },
  {
   "cell_type": "code",
   "execution_count": 16,
   "metadata": {},
   "outputs": [],
   "source": [
    "kr.retrieve_gam_ids()"
   ]
  },
  {
   "cell_type": "code",
   "execution_count": 17,
   "metadata": {},
   "outputs": [
    {
     "data": {
      "text/plain": [
       "199"
      ]
     },
     "execution_count": 17,
     "metadata": {},
     "output_type": "execute_result"
    }
   ],
   "source": [
    "len(kr.game_list)"
   ]
  },
  {
   "cell_type": "code",
   "execution_count": 18,
   "metadata": {},
   "outputs": [],
   "source": [
    "kr.export_game_list()"
   ]
  },
  {
   "cell_type": "code",
   "execution_count": null,
   "metadata": {},
   "outputs": [],
   "source": []
  }
 ],
 "metadata": {
  "kernelspec": {
   "display_name": "Python 3",
   "language": "python",
   "name": "python3"
  },
  "language_info": {
   "codemirror_mode": {
    "name": "ipython",
    "version": 3
   },
   "file_extension": ".py",
   "mimetype": "text/x-python",
   "name": "python",
   "nbconvert_exporter": "python",
   "pygments_lexer": "ipython3",
   "version": "3.7.6"
  }
 },
 "nbformat": 4,
 "nbformat_minor": 4
}

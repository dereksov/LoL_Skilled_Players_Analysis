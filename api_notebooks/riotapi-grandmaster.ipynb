{
 "cells": [
  {
   "cell_type": "code",
   "execution_count": 27,
   "metadata": {},
   "outputs": [],
   "source": [
    "#imports\n",
    "\n",
    "%matplotlib inline\n",
    "import pandas as pd\n",
    "import numpy as np\n",
    "import time\n",
    "import requests\n",
    "import bs4\n",
    "import json\n",
    "from flatten_json import flatten"
   ]
  },
  {
   "cell_type": "code",
   "execution_count": 28,
   "metadata": {},
   "outputs": [],
   "source": [
    "# 20 requests every 1 seconds(s)\n",
    "# 100 requests every 2 minutes(s)\n",
    "\n",
    "apikey = \"RGAPI-2a11ccd9-3521-4259-8999-2bc2c8dab556\""
   ]
  },
  {
   "cell_type": "code",
   "execution_count": 29,
   "metadata": {},
   "outputs": [],
   "source": [
    "# get challenger summonerId from league-exp-api\n",
    "# 1.2 delay bc short list\n",
    "\n",
    "req = requests.get(\"https://na1.api.riotgames.com/lol/league-exp/v4/entries/RANKED_SOLO_5x5/GRANDMASTER/I?page=1&api_key={}\"\n",
    "                   .format(apikey),time.sleep(1.2))\n",
    "assert req.status_code == 200\n",
    "data = req.json()\n",
    "sumids = [d['summonerId'] for d in data]"
   ]
  },
  {
   "cell_type": "code",
   "execution_count": 30,
   "metadata": {},
   "outputs": [],
   "source": [
    "# get accountId via summonerId via summoner-api\n",
    "# 1.2 delay bc short list\n",
    "\n",
    "accids = []\n",
    "for sumid in sumids:\n",
    "    sumreq = requests.get(\"https://na1.api.riotgames.com/lol/summoner/v4/summoners/{}?api_key={}\"\n",
    "                          .format(sumid,apikey),time.sleep(1.2))\n",
    "    assert sumreq.status_code == 200\n",
    "    accids.append(sumreq.json()['accountId'])"
   ]
  },
  {
   "cell_type": "code",
   "execution_count": 31,
   "metadata": {},
   "outputs": [],
   "source": [
    "# get game ids from match history via match-api\n",
    "# 1.3 delay bc long list\n",
    "\n",
    "gamids = []\n",
    "\n",
    "for acc in accids:\n",
    "    matlreq = requests.get(\"https://na1.api.riotgames.com/lol/match/v4/matchlists/by-account/{}?api_key={}\"\n",
    "                           .format(acc,apikey),time.sleep(1.3))\n",
    "    assert matlreq.status_code == 200\n",
    "    gamids += [d['gameId'] for d in matlreq.json()['matches']]"
   ]
  },
  {
   "cell_type": "code",
   "execution_count": 32,
   "metadata": {},
   "outputs": [
    {
     "name": "stdout",
     "output_type": "stream",
     "text": [
      "20500\n",
      "14557\n"
     ]
    }
   ],
   "source": [
    "# print original length, then correct overlap from shared games and print new length\n",
    "\n",
    "print(len(gamids))\n",
    "\n",
    "gamids = set(gamids)\n",
    "\n",
    "print(len(gamids))"
   ]
  },
  {
   "cell_type": "code",
   "execution_count": null,
   "metadata": {},
   "outputs": [],
   "source": []
  },
  {
   "cell_type": "code",
   "execution_count": 35,
   "metadata": {},
   "outputs": [],
   "source": [
    "with open('chall_gam_id_list.txt', 'r') as f:\n",
    "    challgames = f.read().splitlines()"
   ]
  },
  {
   "cell_type": "code",
   "execution_count": 46,
   "metadata": {},
   "outputs": [],
   "source": [
    "challgames =set([int(e) for e in challgames])"
   ]
  },
  {
   "cell_type": "code",
   "execution_count": 47,
   "metadata": {},
   "outputs": [
    {
     "data": {
      "text/plain": [
       "10446"
      ]
     },
     "execution_count": 47,
     "metadata": {},
     "output_type": "execute_result"
    }
   ],
   "source": [
    "len(challgames)"
   ]
  },
  {
   "cell_type": "code",
   "execution_count": 48,
   "metadata": {},
   "outputs": [
    {
     "data": {
      "text/plain": [
       "14557"
      ]
     },
     "execution_count": 48,
     "metadata": {},
     "output_type": "execute_result"
    }
   ],
   "source": [
    "len(gamids)"
   ]
  },
  {
   "cell_type": "code",
   "execution_count": 52,
   "metadata": {},
   "outputs": [
    {
     "data": {
      "text/plain": [
       "10724"
      ]
     },
     "execution_count": 52,
     "metadata": {},
     "output_type": "execute_result"
    }
   ],
   "source": [
    "len(gamids - (challgames & gamids))"
   ]
  },
  {
   "cell_type": "code",
   "execution_count": 53,
   "metadata": {},
   "outputs": [],
   "source": [
    "gamids = gamids - (challgames & gamids)"
   ]
  },
  {
   "cell_type": "code",
   "execution_count": 54,
   "metadata": {
    "scrolled": false
   },
   "outputs": [],
   "source": [
    "# get individual match information from gamids list via match-api\n",
    "# 1.5 delay bc long list and repeated issues with \n",
    "\n",
    "matchlist = []\n",
    "\n",
    "for gam in gamids:\n",
    "    gamreq = requests.get(\"https://na1.api.riotgames.com/lol/match/v4/matches/{}?api_key={}\"\n",
    "                          .format(gam,apikey),time.sleep(1.3))\n",
    "    \n",
    "    i=0\n",
    "    while gamreq.status_code != 200:\n",
    "        gamreq = requests.get(\"https://na1.api.riotgames.com/lol/match/v4/matches/{}?api_key={}\"\n",
    "                          .format(gam,apikey),time.sleep(1.3))\n",
    "        i+=1\n",
    "        if i == 5:\n",
    "            break\n",
    "            \n",
    "    match = flatten(gamreq.json())\n",
    "    matchlist.append(match)"
   ]
  },
  {
   "cell_type": "code",
   "execution_count": 55,
   "metadata": {},
   "outputs": [
    {
     "data": {
      "text/plain": [
       "200"
      ]
     },
     "execution_count": 55,
     "metadata": {},
     "output_type": "execute_result"
    }
   ],
   "source": [
    "gamreq.status_code"
   ]
  },
  {
   "cell_type": "code",
   "execution_count": 56,
   "metadata": {},
   "outputs": [
    {
     "data": {
      "text/plain": [
       "(10724, 1550, 133)"
      ]
     },
     "execution_count": 56,
     "metadata": {},
     "output_type": "execute_result"
    }
   ],
   "source": [
    "# check length of matchlist \n",
    "\n",
    "check = [len(m) for m in matchlist]\n",
    "len(matchlist),max(check),min(check)"
   ]
  },
  {
   "cell_type": "code",
   "execution_count": 57,
   "metadata": {},
   "outputs": [],
   "source": [
    "# create df from matches\n",
    "\n",
    "df = pd.DataFrame(matchlist)"
   ]
  },
  {
   "cell_type": "code",
   "execution_count": 68,
   "metadata": {},
   "outputs": [],
   "source": [
    "gmgames = list(df['gameId'])"
   ]
  },
  {
   "cell_type": "code",
   "execution_count": 69,
   "metadata": {},
   "outputs": [],
   "source": [
    "with open('gm_gam_id_list.txt', 'w') as f:\n",
    "    for item in gmgames:\n",
    "        f.write(\"%s\\n\" % item)"
   ]
  },
  {
   "cell_type": "code",
   "execution_count": 61,
   "metadata": {},
   "outputs": [
    {
     "data": {
      "text/plain": [
       "10724"
      ]
     },
     "execution_count": 61,
     "metadata": {},
     "output_type": "execute_result"
    }
   ],
   "source": [
    "len(set(list(df['gameId'])))"
   ]
  },
  {
   "cell_type": "code",
   "execution_count": 63,
   "metadata": {},
   "outputs": [],
   "source": [
    "compression_opts = dict(method='zip',\n",
    "                        archive_name='gm.csv')  "
   ]
  },
  {
   "cell_type": "code",
   "execution_count": 64,
   "metadata": {},
   "outputs": [],
   "source": [
    "df.to_csv('gm.zip', index=False,\n",
    "          compression=compression_opts)"
   ]
  },
  {
   "cell_type": "code",
   "execution_count": null,
   "metadata": {},
   "outputs": [],
   "source": []
  }
 ],
 "metadata": {
  "kernelspec": {
   "display_name": "Python 3",
   "language": "python",
   "name": "python3"
  },
  "language_info": {
   "codemirror_mode": {
    "name": "ipython",
    "version": 3
   },
   "file_extension": ".py",
   "mimetype": "text/x-python",
   "name": "python",
   "nbconvert_exporter": "python",
   "pygments_lexer": "ipython3",
   "version": "3.7.6"
  }
 },
 "nbformat": 4,
 "nbformat_minor": 4
}

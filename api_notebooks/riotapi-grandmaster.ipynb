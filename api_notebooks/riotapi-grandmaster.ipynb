{
 "cells": [
  {
   "cell_type": "code",
   "execution_count": 1,
   "metadata": {},
   "outputs": [],
   "source": [
    "#imports\n",
    "\n",
    "%matplotlib inline\n",
    "import pandas as pd\n",
    "import numpy as np\n",
    "import time\n",
    "import requests\n",
    "import bs4\n",
    "import json\n",
    "from flatten_json import flatten"
   ]
  },
  {
   "cell_type": "code",
   "execution_count": 2,
   "metadata": {},
   "outputs": [],
   "source": [
    "# 20 requests every 1 seconds(s)\n",
    "# 100 requests every 2 minutes(s)\n",
    "\n",
    "apikey = \"RGAPI-d2088fc5-5f70-4703-8360-03eabf53dcca\""
   ]
  },
  {
   "cell_type": "code",
   "execution_count": 3,
   "metadata": {},
   "outputs": [],
   "source": [
    "# get challenger summonerId from league-exp-api\n",
    "# 1.2 delay bc short list\n",
    "\n",
    "req = requests.get(\"https://euw1.api.riotgames.com/lol/league-exp/v4/entries/RANKED_SOLO_5x5/GRANDMASTER/I?page=1&api_key={}\"\n",
    "                   .format(apikey),time.sleep(1.2))\n",
    "assert req.status_code == 200\n",
    "data = req.json()\n",
    "sumids = [d['summonerId'] for d in data]"
   ]
  },
  {
   "cell_type": "code",
   "execution_count": 4,
   "metadata": {},
   "outputs": [
    {
     "data": {
      "text/plain": [
       "['2EbXGQo0fLjOzJ1y74INwlLxZVGz4W9M7drgQyNHT5kVTgY',\n",
       " 'otmzo6xtXvv4uqYNDOojcX2InwctgbR9CuMLOXYy_Zk5cCM',\n",
       " 'B4vGi0UyejzzkmLc2oV42S36RYJwGIJjkFj3bsDeoZz59c0',\n",
       " 'ipBA0xp7fvjCe4Lu0edYJEX81fQJVLE5z4YJ0k5-05T9W_Q',\n",
       " 'mAXHoAbyKTixCwVn3T8hDLauiATdqb23DDTUU8lV3se77aQ',\n",
       " 'H1PaV6wkvVZRRSHcSjkns3NBeYQhz2wlXOlqIH64FwMaq_rG',\n",
       " '4fJJrInNPQO6M3Mg4iNPgwMYAsECQS2xSAG0qHVSJ5u74FLa',\n",
       " '8KFnbLNDwR0J-Eq0mDfS3dpGqPcg8HbvBqkD2la4oejxwmDa',\n",
       " 'XPqv44Zr6IJrEYvADLRWxsKt1LfZ_6tDCjSTOe6Ui9zztjEL',\n",
       " 'qQKP01VwE5NVW7WjlKYedMhjehXwZGUZBQhxYDz3qMbHk8Nb',\n",
       " '9Nsny9lPbUJjO7udgULCXp660gqU7ExvBgNQB6fUUmPhw_0',\n",
       " 'YV_QyMdNEkywejvbIhnXHqQBFOY-j9guw154v58AU4j-y7s',\n",
       " '5kP59z-u-F7F39P87rILoaOIWtXJ7-IrVs-txhEjeFjmOXs',\n",
       " '8lRQPmGB4WC7FHVi1a9PbWBmpdY2WcSuCId9rid8p3mCO9Cg',\n",
       " 'VmUReZTaFJEW0YjlNouHSPW_5M0Zg4Jz7Y7g-I2ggEDzia4',\n",
       " 'GflEihIk_WteXd_3w6341obKFaSD74hU3tqTfEnU-wSlf2Y',\n",
       " 'gQCNDEsoJsHgO7BsEQYnbhfp0ix2esojFkLrOdqRZ4CixkI',\n",
       " 'dONas3NhwHYfCmwze523bgyaLSFMwO9sbWxNypvE6OX0ofk',\n",
       " '1lLHBMD-QX4MfPFkk3-4QjHP_kiJ3y0cx1sXUpMLVI8_gXo',\n",
       " 'kT2FWNsDqvhnRa6VfrWedqfuuvqMjHH8eKT1bgkf8lxegyd3',\n",
       " 'eMaUYGiuhdzuGxArDio71Fl8EEj7rs1JbC1S4SG8n1_iwfA',\n",
       " '216phlCxrHv8ZgubshYiV95VVxWtZrmjsYmm-F4-Y0yhLD-C',\n",
       " 'NUjcxbFP59AnOyM2GPy5k-taIFVdcOu695WdHpwGqtR0kwY',\n",
       " 'Ubsk1uGtZihP-9bS2DF63GNlylCw5eAVpn5XbuteImDwVrV2',\n",
       " 'XuvTgMbavVyF4FDZotkfV8QVhkvyOz5pHL5u9-24RuL4lgs',\n",
       " 'iXN3-zk6hxxzonGZMs4bE5l0xAhxGhohBEpFZ1zdV6CQceY',\n",
       " '22rFxjq4yfFRcg5ZXmK6T0qiUJpMJ17UP_Wso-GeZJ5hEpk',\n",
       " '-HeKYZ2EPlKsZdf0KO84nGY5SJDQZwgInw37ov65ndjZI_90',\n",
       " 'mvRRgDVly4NB6CcSiaBYyz5B-xHC7B3H9MdKlTI57sh0QwM',\n",
       " 'NYfDVuFJuZ-4T_rCNGnm_WWk7WyQCfF1i55MvCXuS4CzynEi',\n",
       " '3NF-zEzrFDrQTth-b5XbKyZbVm8vrhfwqSKB1AVIcgTJ9tU',\n",
       " 'QG-ndVURFnuLxxNaSQI0dlVl9p_skhAUbHgCqL9nLGey8v4',\n",
       " 'YGTmSZpkbdQnOGBv_Eqe85zEONDFaGpptlCetfYH4hRBoHM',\n",
       " 'mPMxBUMlalr0wU-iDDlOE8K-vYbb5ZD5EJrs8v36KwSM-LzD',\n",
       " 'ny9kMckmUcwIV2R0j1eaDAJs_XfP36BzhP8o5mWxTcWOsFm7',\n",
       " 'A_3FALrzQnUTijmAOkRvLl84EP8K91I16DpLldQOBo88_ws',\n",
       " 'XSKm-8uzbZz33q5ovYR_D77_BvcLaDtoB4VDKGeZL8kdI6I',\n",
       " 'C3Ni1IykZRSja78aW33OkrxGiGIup-sW22R0QqAbFqpsnrI',\n",
       " 'WqKovZ1X__medWZF3Zw8bVpzgCGUhetW4WZ2qm7GW039KWDh',\n",
       " 'EbFswYV9-xjZD8BmcHY0FNE-d1qdvTeKIQwly9D7LmS_Agk',\n",
       " 'd-hDr9twwyeNrL2HogOxQJevsUqNfkMtrZIbVqqEL0CBvZ4',\n",
       " 'sWS0jiWtKM9MI0BEjHcJElkW7W6G9z2bJT9totcwEWqeiKU',\n",
       " 'ptX8uo7adGX6KB8AWG6pWSveHCPqinYl4Tnj-mSfb5qhzBg',\n",
       " 'HclkIwAvzn_B7A8kpbPOu5zxedAce9wWjLZ2YQoQviigq9HJ',\n",
       " 'sAqwtYMnArW76rdYXeU8TXLzVu8X1TM_uQ7g-rZoMwulLic',\n",
       " 'KkU3I70V4LpoVgyPR9eF9QFUDYV2-k_kIjr5_gE3nh8-Chk',\n",
       " 'qVFg9UXWCU0wkh08cTX4jAV6dAveof6MFjKBNPXx5mpm6jhw',\n",
       " 'C75N8cIq4FRAI8pSPm8Xa-YYrBjvymAKrAn6BAZ-QlmOQ3s',\n",
       " 'ugUbfXamw6aWXwW7jcy_vM1tE8VcOQDnlenYSHot2259dx4',\n",
       " 'hYGoS0uETKjtvSgRCcVbJ8OgsBXCNWh6BN7EFkm8wIecsmmL',\n",
       " '7oAEFR6-eZH2339rOPhdbDwbQxilEN4Fx2PcjCGaXXSjWaw',\n",
       " 'O4MdcIiZRBTfYt0y8WufEUon896gEyq4lbhTyfslLRTwSJ4',\n",
       " 'HRShrhfreA6WoL4udWhV084ch-x0v-c19fPPjrdyPZPIkws',\n",
       " 'mmypURQron674P0es0oge_epNZviqpdeWWBpf26LuOrpL-Y',\n",
       " 'iNVpP9rFjQV848uyA9kWroTh7qVFy7cD2gHP2EzSrr-sKQo',\n",
       " 'p_tt1uKfUG79jqawZE3hPUV7A7pnCT3ALNwyNj2BzNIRy8DP',\n",
       " 'EhK92QswYBvXLT7BJS3esJdg1HIKVQXn18RCHt1K1_AUhhm0',\n",
       " 'HwRPXxi9BVieyU8JvqhfFvWMrb7R5zekbOVoWs7WPh5_1K0c',\n",
       " 'O1X-NupT1I1T0B5vvP3xjsvgkCbXFqaSkSwqDm6GuZeSmg4',\n",
       " 'c2sN5KPS0a5VNjWKiJtj_AOTDagIzy_m4jEd5prW_7sI02o',\n",
       " 'Zeo9XAy1fEtnZPBio2HBvGeOT4VwJT5-ME2yX1G9cL1Y_sE',\n",
       " 'oY0yp36ubJ0joVtuo-7BNgFGfu5ZVNZ7hlXTpdU2qHKff-M',\n",
       " '4-fexw2bhqKTEnBG6K-ZXTEhD9DBE7cAHY8AKs3oOhkj04U',\n",
       " '5yBSHlK7FchyJLDaPlSY_OSUV66Dkt9Uvsj3sy2c2ILPaus',\n",
       " 'aq_j3USszU4-ojWzWTZhoiR7JMju50mwtN_0O1VJDZ7G4yM',\n",
       " 'Ei7hd9kUXcT1Cx8wnFI24e00zaqW0cEMWbVmWK1MjLpfd8Q',\n",
       " 'DZIbq4q2jm-s-SA8WuB6VmtvRwa-OxM6LbRTTr5VIm9i4mzJ',\n",
       " 'zxXi01IM98Twb2_9lQREfUt0cp5wz-16milyIWubRMhlF60',\n",
       " '7bFy2FA9RgnqLs_Y7P5dvzdytrrTXW8ZuUAJxEyXgoXRJt0',\n",
       " 'lc-30lqyawe26ODeKCo4VRgWyF1phXy7FeupBsaDdoB4Vz5g',\n",
       " '4tHB1NffhdHEyXn6JyNJe-bUAA5ebhG-mPeb4TZuW0sSpINR',\n",
       " '5ZSBZ9KpzH2g9o5GyxkblM_ICYfNEDY4Lik8Zr0eY74WhvE',\n",
       " '9jPDlrv2MilQk_KC8MP9feaf-V6hJrs9bdzwzspuB6Oq214',\n",
       " '1GfDc96vQFXocidBEzqbkCY3pn4-f2tVVFySn-p8KJCEccU',\n",
       " '-21rDF_uI2H3bJyuUpE4Kc2VOqcxFFNnPyrJePiU0voDsF0f',\n",
       " 'Kgvk9HguIxcZSsiGdx_Rhtu27ICz1ovc3FVMvxMXgTaoYVw',\n",
       " 'bzgQ-R_ZFyIjQsZyWCdgCM-4N-7LAowZi8v-iHeOGvx6KVw',\n",
       " 'EA2bPX5SPWxjCeCk7OBFPPGb8cmuZJWhbi2GkWBw-uPc2kw',\n",
       " 'E5vBpWR9GqYl6s3rfc6zRHjyh7GUp5FVJd8fx3ieFFaTTzs',\n",
       " 'dbWctvBZTnahXGjAHoVN6g6nAVoRk0FjpRNbZoxYYA0LALw',\n",
       " 'L5ltw_OuK3ss2v7XZ6JSt_zEcDtti37SoioB7GKtv191R0I',\n",
       " 'DzNbJ1mh_PWkKV1BtEfi0neEhZcNYJ5y88MnEIVkNsLnBGs',\n",
       " 'vriNk1J19yP8fmxJIJyat7YStxh5wK4nKfVu-UuEzvK-0cU',\n",
       " 'xcyxoiFfFL2BXZvcd7tQpjLQLec9JgOE9tfetm-ensicQdU',\n",
       " 't6uE72V9SkZO0C9gqj1ZGYZr_31BhHB-HknNhmQ8GEdRA3I',\n",
       " 'TNHAxj7ntBS7AYJ5bledX92dZt8fQseO7KgCO3IJUUdJ9Ns',\n",
       " '8cui-1utSOXkjwA1bRSwpVsYOdU2gu4XOsYOJkDwITim60o',\n",
       " '1LRk4742Pn9Fy7nuJBlvK0D8U7a0PJ19kMhklh8iK6w76vo',\n",
       " 'zhYjyk7LulRFsNzV7btY1yqfQiclTd8PvcwhVLbW8tOTMiI',\n",
       " 'V-j9CWJvT1TJppSiU31iCQkUx_OFQINrLI9Gdieb1dgEs44',\n",
       " '3pe3dUN7_8gLBoHe-VMvDoSjQmKEnDiueK43RnNfxufIlrA',\n",
       " 'jsURgaendGD3hHfmqOYdZWdpyF4oo6mdY8GsaGrnbE9guBk',\n",
       " '8NEqWxgaVCW6r-6kH78S5xzgpu5EaRb-fANsvnBC0U0nbqzT',\n",
       " 'vALG-q3D6tv4b9BhmBbWKkMy13kqaadRv6ki9cQ60S1MNLI',\n",
       " 'DQtxrZDQwt48O5atfzMCf8abbxFnCrT8XMvvvJyScUyyYvw',\n",
       " 'eynzFtLk_ufE8CZ5ZnjfL_pXhDEjqhVm8F0auopntMBkl0g',\n",
       " 'vQ0ecmHpO3b_IoIrFdTW-ZGb2N5mFnKdyFk54jxHqUOj51s',\n",
       " 'yCMpV1TYKHm6HZmOzQCtQs17Me2ydDw4DAQ0ed0j-IqcX7Dg',\n",
       " 'jPQMSXLBBJDJoqJkI2gpuusCSldTyXujwfzBR0Yczr3rxQrf',\n",
       " 'oRtxpIX0ZMyK-vM7iRuDZrQ-50j8c87QmOCdS9blwy_oc94',\n",
       " 'jOPhZ7KqlkUxxw4DV6-t0T2Oq1uWKzbHfhsUecAPSQ9lqao',\n",
       " 'um54co8W9hHvuJ-iu5I-ysm1uyA6uGJ0RVFZ5spgRakWS4k',\n",
       " 'rfROKq8Kxo0U_hW4yuRZIaOnBiIQUYShxPcJ46XswZqLvzw',\n",
       " '0jAFrDUKdktGgGWChqCMHohawlfR5q5na2n7zG-a-pwmsB8',\n",
       " 'VEtQfF2faVG27Uj7ATRW5Ckw34jeZWmdulXV43nUEYOakDo',\n",
       " 'nONX7CA509QfEOiz3g2fwG05tDUt9uNZt5q-bSfn7K2rBYQ',\n",
       " 'Qr8mK5jZyfMleNfCv1zIUd7QWVHXf0FM1WMYEcmfiyTKaNI',\n",
       " 'iv0Qp-85wuN7OrdoYqH7iNujiWS819oPjD9NT-BhOa91kEk',\n",
       " 'wkQQ_I_1o1Mtznn8IKPCpEPmzT-J8z7Is2RNPih6l1FP1oUq',\n",
       " '74VoyXtDLrHbBC99NT7XyIAX_ZBT1TIVrs2Fy4sBRAYsLVQ',\n",
       " 'uYYsmJxqi9RlTyAMoajpVOYWXpHOx6Xi1NM14GA_5m3GfNWM',\n",
       " 'lM0g8IgbgkOTDm-btQRt5deiwEJOAVn53UPMjY2rEDxG1vE',\n",
       " 'crMCy1P8ZHofeRZElJVC_vhKnlDnui_t2jHSPCxOEwYrwZlK',\n",
       " 'N4iWivhKpPqvDVZOuX99aUmQk0Igu7SOUfZs5Lq9fOj-Ogg',\n",
       " 'iPOR74itMhPmajHNfZawPI-CH9T3egYxIYfmh5MIASIutvo',\n",
       " 'dk0qxSv8BkT2jz1eB-Is8g97dbTtyjgUgGumwFYYvtIgqIk',\n",
       " 'E-OcHVL_RLf7rLXmnixz9RlvyPKrQJX9NpoktPhWRRgO8jI',\n",
       " '3kOJjQ0lWrUuSudQyZMAk2VuTfHxzJW-1jMpssuNbndqCkE',\n",
       " 'REpkBrwR_Ml_q85hPPTF09bbXv_wj4cbDpRESwZPQIPh0Vk',\n",
       " 'WItyZpwJlRWhcARlO2T2E52D7UImF1eSRfGhYCC6HVJH-7c',\n",
       " '8qNHLTyMyDD1cblJeXfO64xu0UEA2xClhVpAHKnEo5GmpzY',\n",
       " '9sAECFqrgoCh1Z1b1aHMyBM0REAu_wEQJUMBE3q9fViOTts',\n",
       " 'JQ8o5yi2v5DE9c8G4D81gI4ufUCg47VC1Byz8RbFr4ST_fC_',\n",
       " 'aUkQOMKuVPO6NRkCOD5FkUAEtyA2jbSGpDYvXsgIZz1z3cAi',\n",
       " '-5qdFImqTHQQk5JKNzofu35BCSJhWGtrfMMWB8cW3XZcl5VF',\n",
       " 'O-kkiXorXHMhZD-oX9DsSkX9efVvXb_5YgZYD_ZoOuBfAIY',\n",
       " 'r80xYaCXagtbaRz5OxVd3Y1hCGqVuqWrNcLt6kCQRuDPI2Q',\n",
       " 'D9lASJjMzPo01X7ZYMhHDmOE7pzJmWcIXgivgTmcp9Y1SEPv',\n",
       " 'j-5u63_vci_DFZwud-qJV63Z-GQeSfQcO6prv9eO0v2VRhT2',\n",
       " 'LL7k0ZOIK8hLjcYk4xueefDnxTHCdBUtmbBGi9Y4CdZ8xIQ',\n",
       " 'kzJwJRUBl46USohOIhqDKUjQVZllzMt2nS1h8XCLpWzvNvk',\n",
       " 'm85kHRXiyaPX2TQeRLm24wcqml1L4jAHUjRq0wZqTLGho3M',\n",
       " 't4m1cKDamd8WUsm-eHmfgGY78HcKX10sogRDbty79-LIGNw',\n",
       " 'Xwx_QN6FwQ033oLvfY7De1AoMT_g2Tfbwxs-dV0w9yLEQaw',\n",
       " 'opTDHGNzPG_cXkMfo6elmfdJDOSGrE0gKYJKb5NS2BuD0i3b',\n",
       " 'mVyALhpu0xNvagcPQLO6cfVMqqNLhFIa7E5-WfHKXqwH6vM',\n",
       " '2MEtuOLRghWSo3Y0mi_olA1szOF6MQqc8vt7JgLVZE_-g5w',\n",
       " 'FhNTTaAXRnvhi4ab49F4Lqsh2wM7qKOlIrzzDqICc5dxtCha',\n",
       " 'FisX3DUDrJKzzfMP3XbNLiAKNUl8TLgW7g4UJU9Y0Wj0ob4',\n",
       " 'ZeFyFCa2cKlq23a-ZOaLD9Kus2z36fgQfr_lujFDKW2A-5U',\n",
       " '1_4ezkqXWMJRr_awZGanvMfJXZftjorGONMuiA9NQb3MjdO4',\n",
       " 'N6G5hxWyBHThZMzRoZwGfveR2bjhvUVS_qvGkmTEN9wY63OD',\n",
       " 'PN3YDO8xm7Qn2ePXfjTPZpadE1vrNyYZWiFOh5p1Dby6125K',\n",
       " 'QndeT-7J0sn_nsJ8e4P336lBpaHJavbit3URjo5R3QqKNjRy',\n",
       " '5o3Pj_sgHVYy_AIEninMN7Dgoh2MV88mC5YwpCebOT_kTWw',\n",
       " '5klA3bWH6_LORA41H__whWjXHggCu0r5EPnJn67oNHo0su8',\n",
       " 'EIaiXQLrccnPq0QXLh0PpxAfzb9YhPp_C0P2M53X22iNu4A',\n",
       " '8ImMxG17vkKLUeffZVNuYBKP5q0brsl-KnSWNmT17La6jE7T',\n",
       " 'yubsTLNmMlQY6XAA_xU_N-kXOvlzN_JV2NQiMl276MzmwaPW',\n",
       " 'y3uIncBbGWA8Wa4wkpLfnhh2kvQnNEXyums3xk_EGXgpD5o',\n",
       " '89ms5ehNz1wiOZxtwJIsQ7paVAUXMtXxvAPWDPAFk48lIko',\n",
       " 'XcUPZHTKidOKx6D9BYtf2ESqFQ9zEQpOns748ZEoGCFOxVqo',\n",
       " 'JkXq2bk6qLnMCNOwbaLitNFkG2M-pAyJw4acqSJpMLSPSgzO',\n",
       " 'HM3l8bizSVrMtJdJjej9edDsO3PMkbhfdI1tIeMRb99UkCNO',\n",
       " 'ScWSz-LU9vO2H3GU0f8FXkn_h0qZiPDRBQhLymtsBW8zaLmv',\n",
       " 'qjYMKMyYIKOKy9YBrSsFFjHIiEK3Qoo4wJxnn0cV025Uf8OL',\n",
       " 'Es9nFv-d_9Fnji1-81wZFOq6dTV1qwO-B35hC5MKcurdNtw',\n",
       " 'F5g4pcL0e34njPp5Mjk-oIO4xb9lj4IhIFscIh82S06Js48',\n",
       " 'gOGcgqs4uqMBDnIqlSyabC0oPEM2oxIhvWuivglVDv8Pzvbg',\n",
       " 'At_kcABOKTxSnz9EWgYVWtmxhkK4pJXCl5K_0UoVW2-bbro',\n",
       " 'tHLxWY8_jC7NllvGduhsBMBRnmtKo2cQ7yIgzWoudYi86M0',\n",
       " 'YVr4kHk-BB4NNkHVxBE4lQ-TcXhEbwlGCIOR449fziCN4Uk',\n",
       " '0d8ZbIiDnFAVnjhCOwDq0SS0ojyzddcbXE3VUSxJ8u-VPIGN',\n",
       " 'EjQ7owk8CJWdPtRhky0lSc0NnZ3iMEeARYsEIU4GRKtL',\n",
       " 'PZu9QeWqWMn_W2MTjUSPaqXB_OT7WmAWTT_ohWrjUhWwKO09',\n",
       " 'JpKC7jhaK3xHZLYp2lbEIaKJPwihiA-RGt3Ozx3UorkoPR4',\n",
       " 'fC39YQuysCFKacn0pI-dewvJgLBGtk_YKJt89W8YAjGdtOYO',\n",
       " 'i4YwBHeDHLBYB-3Be8gepNilYysNdXzqz23fwt0ijcgt-Fw',\n",
       " 'ZGBl7EXEnQAhliMvRYhXpvuACwn8dK22xk1-XyrJFzBpMzs',\n",
       " '11V37rm0NBgl-qmJl0Tva-N17-PYiHg6PFbB37_GUUA0USdJ',\n",
       " 'vm6S4E3mXYHe3cmf1dMi9LMPVGatNvOu2K38f2PcVxaufKw',\n",
       " 'y1iUWrUa1gsQdjfh-B9U8jD5ObOv57-5SqimghFhGdTlDqI',\n",
       " 'RMyNS8qr4ELNBCC3LI7L16rWko91Rhrwe9OxUkQ1Z-kVCXI',\n",
       " 'UIaiaModrRl-Sn2nsAr6YHnkvDgZ7bX4GWOQ2C9-NIinOQ8',\n",
       " 'zkVoh6R15LlERmdBiuPU6TNRrQ1Px0yOUaT8uGNNkwqRT4g',\n",
       " 'BJTN-_lmr7yUuJcFWE9KeipOjOCEgplh1Ge13VhDt4di9Ag',\n",
       " 's_S9JiiGs3GqJJugeF_8QVFcRQRh6FC5jpFZU835aU3sGSc',\n",
       " 'HjoIgySfN20aqCYZxsiIeAKeeUYwUNI99Jo68w0Ow1DfOZDz',\n",
       " 'vVOKOqA2RpOmod9Z6f_GQ8xVXZLg4hRhmnlSdp6rbuYfg2U',\n",
       " '680tcDH-_YyFwBALX6rt8abuJ3En1PBeqXFxH3YK5L00JCyP',\n",
       " 'o9Pvi4hUTg4MDCzF-eEHlsqTHB5EGOkF-A-DHnpfIDcpM37R',\n",
       " 'MzHJakOg0-e4I5dSwfE4FM8fAcUDC3WnN0lLn5HizP9zsEOe',\n",
       " 'PcpW4V_U-4TW71DF2FqEGDVem0S-Rj2ydDTFW_D0ob__6Bc7',\n",
       " '5dp-TeA8yNh3n9TyzJHqZrAps8ceS9BVgDBuoaezYeH8c4o',\n",
       " 'j99ZAbDm3R4Yb67HtglCc0E284N1PL_XlcPH22P04QU-iDY',\n",
       " 'ehPHg8siS2sg-kiBQSc57xmn634RJoPy11vThi70A0XZx3xn',\n",
       " 'YjbwT6JHHxWoU0D9x4h7_Fi-ladZARll3B6Hx2ZjgVZpWLM',\n",
       " 'BBCnGaeu0FpD93uHdilr3nSgnTzRGTq9DP2eBrPKQyOL5ew',\n",
       " 'NWNQc4FOKLlXegNRBDHrP3ls-vqE1eE1KmdGKkkQGNWIUKY',\n",
       " 'SoBUj-otwz_QD59kirOQED9pAehDcLjsjmWYwVmDO5UlL14',\n",
       " 'LY0-szRLQNMOKNr4F5UF57NDhWaI8nd0-ZIbJgB_-ECnSN64',\n",
       " 'ytBHkHAarumrlAgiWbiObrQqRb1n_JTSEtDaiJW9mDWRm8E-',\n",
       " 'EbE2o7HJrMe02gx9suv8qkaigL903rFW44Mo5O7dOb5xkRK1',\n",
       " 'jwqXy_t-p2yMMkDGtoAE0mpifSw7OEXSwn-_xvHc-oh2Xj0',\n",
       " 'uliZhaMTMbVmAomCA2M3287PWyZ0C2-U8eGxeTavVRJ6D20D',\n",
       " 'bhwK28uBDgPoJs2uIwF39ziXDlKPsMdWKfZYi05UIgEQ6No',\n",
       " '-RBvZKcCHxZ7qi5rHhmP8kR-8MG-y0qWU5zAWsWmo_f3oFo',\n",
       " 'OG-2-9u6-DdRREO0k6SESgQr5CmhFRclyg5b3sRhw6A_n20',\n",
       " 'yEeXb-34IV5fGQTwjeMTa-fVMFL4G98tQWLTTIzJczZhoSU',\n",
       " '84kftMm8YuGX2kgHUxP9jLO2r6R--URloKbUmip2wCjfPho',\n",
       " '-HketWawtNXo2vLHl0vZhl5iLRMAYPTkG7bmJOT6duZ2zEk',\n",
       " 'vQ8swylFj-E5mrm7K-cynUYANc-eC8G1pBHjyv6uqGxY_d0',\n",
       " '9jfv2ZEnt86FloilqJF_lzySy5xMTM8JQzyljZ2jin_Aga0',\n",
       " 'YCcbh8y9c2gepoOZyU7ARLWvweUKML6OoCxqh_T0DxMX7h65',\n",
       " '6wozoxVyrk2mO7wajXYMyVkWAajJ2IxctVPcY05G5Gkzf3Y6']"
      ]
     },
     "execution_count": 4,
     "metadata": {},
     "output_type": "execute_result"
    }
   ],
   "source": [
    "sumids"
   ]
  },
  {
   "cell_type": "code",
   "execution_count": 5,
   "metadata": {},
   "outputs": [],
   "source": [
    "# get accountId via summonerId via summoner-api\n",
    "# 1.2 delay bc short list\n",
    "\n",
    "accids = []\n",
    "for sumid in sumids:\n",
    "    sumreq = requests.get(\"https://euw1.api.riotgames.com/lol/summoner/v4/summoners/{}?api_key={}\"\n",
    "                          .format(sumid,apikey),time.sleep(1.2))\n",
    "    assert sumreq.status_code == 200\n",
    "    accids.append(sumreq.json()['accountId'])"
   ]
  },
  {
   "cell_type": "code",
   "execution_count": 6,
   "metadata": {},
   "outputs": [
    {
     "data": {
      "text/plain": [
       "['Imrz17_kBscl7LrhPXZ3pLLaNuCrPRHWjkhBYoc5t-qPFA',\n",
       " 'JHD54I6GnDCm1kzVFX1aicPAIt7lT543hIsvcMhhJpjNyw',\n",
       " '7E--efWiAfnRuy307fOhU9C_ep8bNtDHsGUmjfe1XgmpAA',\n",
       " 'Pi1CyjWXP2aGFy-QTqFHFv2RaKtaTsYvzzSCQy41tMgN1Q',\n",
       " 'qXSzyoR0jmJlFJKrC5sU6Yg_gBLLGOar-M81B3pHgIK-6Go',\n",
       " '86ITMeBXg14wMrgWNBWfi06ejv1QHky60m8z_5Ffl1_Jcow-MYn21wny',\n",
       " 'gbNyceDN6JAHULzv2hPOxHVQtHjnwL3PMmuJw5-R9A6j7I7ctIAU7e99',\n",
       " 'vgen1eqhryWEiPi_8UbB4ULaGEAEPSSu2TwZ0LzoagsqsrH0IuO3umQ6',\n",
       " 'ffWmEkITwPkDVUZWVx8lFtHMkCx4NSHLXVZBTXksaceRVdJiGr74swjA',\n",
       " 'vsJ576dt9zqZrSLhjX05W1EkJHzBs78ZqkNNDDPU5lqyK9vUFcNhYuMa',\n",
       " 'h7L06qys6rUc4IVIMwoEJQnaXIVvbv83zVwNC4PPmtAyyA',\n",
       " '-AXBawUY7lhMzTZkFl2B20sqGtp1YQEvxmyduZMYz6g_Dw',\n",
       " 'FpE6PjhxpohLEVyFegIY1Hu9AcN_VXbbq1YuczQ_8AHIayM',\n",
       " 'xbSFoaIIvl9YGy7rfQrpJp0_x_M1WQ4-T0CwKiu_t2mDx_kQzjpahkie',\n",
       " 'XweherojDo3RswkDBXUMAnx31Epf-qFb9OqziG2Oeho0bg',\n",
       " 'FCeUShMA3MAMjmQL2vdEYllVcVsukOQ25fdYJz99RY8WLg',\n",
       " 'QMK-FWjsRszOH3Sc9Eni97kFXpNj-aNqF0_fh6QkNS5RnA',\n",
       " 'tuiGInQY5C1zBAB3mYnCt44lPi-nFyPcxEKSKfrDJsag0w',\n",
       " 'HWZn_oszMKEE_aEYrm_nFw8ft0-3WzMJ55XAz32nYYOFfg',\n",
       " '9bpjzVWhOiqjj4NNifXOuSzTUJf-DVBVU0OqQCJZg_EAvSQ',\n",
       " 'L8pBSdJgnjaH8bEhsaRvpWdSlxYPOiRRUeoilrIe-anlDA',\n",
       " 'IopqXFOAZBD2se-UKGLUY9Rr6TFNxUDBz129B7rrJmKbTeo',\n",
       " 'tBd43ICGyKRN7NEe6msJxz87Jjt-KtY2xtNS17d1Cyu8Pw',\n",
       " 'Wd74887qbhP1N4X2Re2_nApowl_A3sa-30JK7HcMwXY8G94ODjUkw-ES',\n",
       " 'NBRCwVKj05YQ_uv1eJbivCkdv7869E2Tb60LJyJimM8Z_ew',\n",
       " 'ksJeN2ceSZQXqC6bU5brTPOsl43Bxj5OD9xLxodQDBF62DU',\n",
       " 'e2bCW9vqq6vvlaCGmA0Fycr6p2JffGSBzYpNWSsd5dFoaw',\n",
       " 'd03Y-_pU08pyyi0EOP531O37bK8h3wgeNcicOa2EOKy9furcyQ5G7GR2',\n",
       " 'sHDvEEZMNAKJWNSzj4rypj8sSAuiwesJOv3DV6b87PcZIJg',\n",
       " '9x9rFedYcMFsuKc_9jWXIldUxsU79ePvJsuH1SUIQJDqj1GVo5fwQlBj',\n",
       " '77FhDfRJYeJK6R9jDh5DjUI_VfziqKtfB28qcCwbYnrTk9A',\n",
       " 'zdEfwyhoEXun0Qh4BzqQjpnU703Zydfb2AmRLRsUqYaVsQ',\n",
       " 'nqSUama1m0VXyzkh5e7_Fa99aAu45TQDq5tGqR26jzf3iA',\n",
       " 'j01ku7Nn_vymm2QP0UcsyKbKOoV_6eFUYOLewM-GqufbA4MFeqX6j4ZY',\n",
       " 'LMUQeY2fHIF1_m6UhaMmIUyMw8lq8umSnu4nV6ukjLU8lP2Ct5shL5s9',\n",
       " '2dz3koeufVxJFo3Mt5AOmxTPfI6ASuS4wHwBZQ8erZPuv60',\n",
       " 'wzHH28N_0HCjyYixx8-ikB4JrIH0Gt0yV_xmQD2AhIcn-mo',\n",
       " '0ClZEJQxWDVXrH2MqbXrvC-RIXFUOsX3flrWdHKuM6gPgw',\n",
       " '7AkpQWH_XdWsd1IF7Aq2stmzFqyTmnUJTOjGcGgFBv1wUE0NhhzPhwx6',\n",
       " '9JhYmTt8f1VKdDrjoEoA-8qge-BlVmQQEar4H5NEim18dsk',\n",
       " 'nlxvRMncEMkIFf-KT4HZcyqph0fofT6ico9TcOY7DIdwrQ',\n",
       " 'V_WEKAGWjvEr0VL8qbvHTARs47b411g6vSsZHqjqpAfb6Q',\n",
       " 'Rny04Yiyoentx0YCCXoZy4_g1temfEOUnEgzeejo8jgzD2U',\n",
       " 'c-XwQyo_zOFxCy3tGM4nD7Ps4itDdzley3ci-TmlJ_XftmtVt8VYGOk7',\n",
       " 'KHBkqEP0ccifOKEXuftntlAZX4RPH7kjc8B4aMNCPAd52w',\n",
       " 'e1ci-2PZ5yZ-7uzs3hx6XPOU3GlpsRpHXcxeUjHHseh7Wg',\n",
       " 'HszTYTQjYTWjdCrpyY8kX93K-WEVF-wMe68DrrqhiRGnUdSJhPUnr--r',\n",
       " '2h1BJ0NlN4G7SahgZ7rO5mbcWro5UakfxlMFf5Kn4YsxCbo',\n",
       " 'BQzGIAMiJpPr0wjXxMFjVsBOCV18K6wtyA2j8czZPP5RBQ',\n",
       " 'WiqS3kHiaMYYGdaA8RNL1d8I8vddBKrCJfUa56-Dwq6iyjgmjNKdIX_T',\n",
       " 'OBrwCMQL-KODVamcgY6gjUI90FPvTptFyaj6XRZaT8QZh_Q',\n",
       " '1Opd5d6PEG7Ef7xXam0TbaSfsGY7Z99mePUSIPtdvxmLM-M',\n",
       " 'eyK3gF1kt-Qp-J2AjAnOvIa60Q4Oz3VGkgudAzw8b4-E2ak',\n",
       " 'Mfdr5z0dtEV61Fs3IMQHYs5eKynN8mn9ZSeu_4Na_WbKEbo',\n",
       " 'iUZcW2iLS_Nl7rLXVOOjEVv7PKocKSyCA768ViigyItD4Ew',\n",
       " 'NqCW0-gexJGLbMcSIIytD8tR7P_VuXx1idHjBDYJfuunVgaHdmKZEmvJ',\n",
       " '_LyDoibVOER_OzXwIxTEqIHUpuf13P1HRivLCF2wjTkDMhoS5px_Aqo5',\n",
       " '0Y1pK8zEETVmum1kmmjomuZpHW9ZNExKmdWyoR7RVt6uphKCWEsP5WVU',\n",
       " 'nEXHy2nKrGCIrtggTmhMvoB5pxAu0R8ptMvBpc3JccnIeA',\n",
       " 'O4_bzQDusMxrCY7iVO5K5JgFBaFUnnO65I-0Pb_k3ov_DQ',\n",
       " 'Uj1LyKpxP-rMWiGzyK9D5eNr3LLMjZEEeLj9igO-icDTtg',\n",
       " 'TCc4A2S0mRZ6hHzgeYfgFNQ0n2DSNg21qGJXWKLg7jKx0w',\n",
       " '5VoCQNzfJ460vEWJVfRlVq-9yXzhDsXNousTBZz04w2GFSY',\n",
       " '11ciXsOdNSDLbWRZ_0h4t3M29aoP94P2R7ExMUGU0RvVRw',\n",
       " 'uBvlt_nKsjP-J5eiYUuE3QYf2FTrZcj9_VeL5_pYBMS9DqI',\n",
       " 'IdDtUiXqeY6JkFlN4dbz9fec0UoX6Hd0Yrbr1AODNX1oig',\n",
       " 'ykZm2rK2Xht5DyGHy76KrAMJdcS42-ybDkjEhVDtY49Ks6Q',\n",
       " 'qw6Ol9xBgIsZ6alhWyYegwl7hg3EQp0r6znUew7wSkqwfJ8',\n",
       " 'YffSFp2KJblb1n3gbQFgCev_db4fR0Oe1CG65Iivnb2bXA',\n",
       " 'Durj5ZeqmwqPJAPXvsq-98FzH-ShZK9XDcM2j-MsP42eNA4unNazDGru',\n",
       " 'f7eIa26F9ODmh3Hqvy6Tot5xezVT64cFIzVZxZE-y_WNv81OAgZhxFU9',\n",
       " 'aahBJPlKLlogyG7YrVLb7vwevcd0iQ3XpxxHHx2bShOPkQ',\n",
       " 'MzmX4JpGoGPqmS5LsydLAJlzGzYX7lHdHAAg-oBED-6FbQ',\n",
       " 'xa1TxSorEI5aySeaReaFFRK4p14929WGrp6rg4APyJ7WL8g',\n",
       " 'FioKnB726SMjeU9xLY9HpElBdSWs5DDqAAb2Qp3zfVbWwzXW9Xn7VOKv',\n",
       " '5Bna3n5di6bEz6TfOVYZb0V2rutXqIgwPgB9ObhLZeXusPo',\n",
       " '2gtNO8b8GHlGoajnMDR2bY0C94UJ2PWkkVBD0_c6MYc2_Ao',\n",
       " 'iVL1oHLGGPSfJoqYAJQMOzP42DR01rMiBEb9XbVcfW-Hv1U',\n",
       " '4I0txWam7Z2mlRo7JSuNeK1LoNEH9FciV875h0YhAm5rbQ',\n",
       " 'dLs9RASmfZGnguF5jVLDDOMmP3aJIlNrA1MqAkYqFW5mMg',\n",
       " 'rvwMkZOXR50zjYI2i_qWMO_ZzSNPqU5qvhobdsDUo9iKv6g',\n",
       " 'uGVrGv33gXrfgxh6nxKK3jq0zha3gEdPgqyUzy8TERH9kOE',\n",
       " 'R0sAg7d1cX4AHn1cwfQlIW8UAXMrS8vf9Kz1xiVqFniO1w',\n",
       " 'bBdCJBXEo2qJI-vFOuKc1rzJUeSIQ89PmtJIugXyH3BaVg',\n",
       " 'U2GhReIo2jIZwfdzHVgf03XbY7fPyJpa3DrqgVM8LHLLtDM',\n",
       " 'W9EQGjcs1XMZ6QiLVnw7VBGTP_9jI_DbaEiHGXYzwBa3Htk',\n",
       " 'wPvvV9d4q7_aYv82LCCFsBhyLBk46cLBi-r3KsroESTtjrQ',\n",
       " 'g81VFHuR91wGimBWVbEAPEaXzTV8-2g7dGJXICMwqP5n7PA',\n",
       " 'PYDiejXz_5QEZK-mYc_sOxBqyWy-vUWUAbdTD4YdE4u8Bzs',\n",
       " 'fPOphJQ7L6O1uiiio_Uh4s1ROwCyBPCtuqVR1KBCXNQ22Q',\n",
       " 'cBDwVgcXvsUAWBIjaaxL5G9tNPSBME9yHTRW2bTYvdFs9Q',\n",
       " '1h9WqvodQQucS19TZVS_xCQUZUCPqDpkGT5IL4qqP4o65Q',\n",
       " 'djeMkGtoQF7MhYJk3_eGb9ix-C5qiEI1tfIgWc3ozJ2Ss-2CcHR6vU1r',\n",
       " 'TqRr1tBt73kr4ex2d_q9alOXpKMbpvQseMYT1Zy8zB-2gQ',\n",
       " '2hRGpr_YX35hR1gopgK8VlYD4AJ0yevSELibGCjks1QVRA',\n",
       " 'lnld6F3yIMCZufFwzf7aUwjvhN8tK8HDblBQNKKm8o_YQQ',\n",
       " '7m-vaBbJdW1DG-efPSjDKb233VbaoalAGT1hE38FeFqlow',\n",
       " 'HucddMWuI0hIXPZYgwpVJsRcC-n2Xu164pM-5rvW3CpwnBw',\n",
       " 'fhuFZZNb85znwCvV6Urr6aZdOw1l0WGZcO7hm-2VTZBfryo',\n",
       " 'VDJV3rahI2dD4XWIPEZkJ2Ek4lOPgsHj8vUm_0npd65Opw',\n",
       " 'UDJRnOgNhWPYxJYwUl8Tdtc1Kos_tuaFM4_UJ_CTnrunCQU',\n",
       " 'dx5MYVh3L9yVVvD6uqjijkA3-G-P5EdBOrlZYFBh8d36mqw',\n",
       " 'cM1IBWrKQ5DxKSiAseqmrVGSdbJ6jfGRSNPQhc9eUAKs6g',\n",
       " 'a30QGvEQs1ZSLd8RbFrZuXM3iPJ_8rMg0HHktOBZHkdGDCw',\n",
       " 'SL3iTvvVIbSi0LTtRi6QQGaRqZDQaM_ZbjY2GNTHJ_ZLjw',\n",
       " 'hcp_dG_5BD6P78MOzbThnpKMYjh6PKQnOWzOrDI5aQ6_Jg',\n",
       " 'F1qMntE6pPHLYO3DhOHOUHH3V0Xqm97kXxlmnpEwL8Rg05k',\n",
       " 'sRr81ZMuKI0B5qp-Ylh-vMmm6pTnRCmwafG7eRuj7vGDAUg',\n",
       " 'j2fX3Hv6gdmroFA659tadLmyLIDGdpv71J_MrErlDmFfhPAkW11HnF8l',\n",
       " 'TrXBLOjKw0Kw9WO_Ske1aeHpUq39Ooz0oz2g60QYujCSyg',\n",
       " 'MOGDhCWBytRVNO69kb7pkOS7JrInWR4cKVP1CoQE24Ysrv6bZN3OapJn',\n",
       " '-99-PR7YMlCJI7Vq9ArB2h48QrZAKRJw0SSjEFP984W_PqI',\n",
       " 'T64usYPlVuSWaKUgBIUtfmoBroMbtouUFcy2hSxVi-Nkk1ksD7mfUAU9',\n",
       " '25LalzDd5meN7pn7zpnJdwB5gUKzH5eyvRW1NazqHSWcum8',\n",
       " '3ZOBiWb-ThMRxPQ6TuYRK3_Ypm3adHzXewqEQiBCe326yRI',\n",
       " 'A-mSV1pCeoNZcweh21xa1tc5Q5n6IgGsYuxCQ78rI6Usv_A',\n",
       " 'BYvnSHMWREAApulmxzecLoIonj3Ni8ZBZntusRNoKfO1Rg',\n",
       " 'czkSY5L6mEQG1AONfgr_57zyLQUmyi85JzcLp_DUPvhS_bs',\n",
       " '745NsVOwig73hdXRuhAe1qrVjJBSwaCujutef3SW3vLl9g',\n",
       " 'P-2eJnabUQ4IaoAtSagTpDoi0F9Cqd3DyW_8LmHyfCXkXw',\n",
       " 'q7Y9amgiOSRV1XB2bHD9PqTXgcBgQFoRlOy87W6_NyMorg',\n",
       " 'BYf9uHERyG2o7Yj6dHmDWr6hCcYshduEGDwAkT1hXYM1Aw',\n",
       " 'NRoZ5Kayzy-xiqudvUKFdtOAJ9WRhVp6H4pnK2Ne0Rkgy8zPXYre-siv',\n",
       " 'vgGjyRgCUPKyL4UPxVv5yJHwBRKP0FuBhkwCKs7xuKQ_Qk0',\n",
       " 'YVJPdK7y1C0rhqIN36URMsNa_T4TwWJeptWrv7JkGGWkWE-NQfoZHeiC',\n",
       " '7vec5bkkSJVMm1cmPzXA-eHe21OMg78orn0ud4HeZ_jYcbY',\n",
       " '-RbOpBg1trs63sZgYaESw7hHiKAIWNiuz0yUucGKDlhm1Oc',\n",
       " '4CHjcyrNJTxoAC-_0cNajhutThd08u7m5vGqb9rfhwbBcENbesE_SwE0',\n",
       " 'qjjLEaFOOqL6VXpC4LOj2UCyu2BArqudpzuKfagPIQgQkghb3y7dURiu',\n",
       " '2QBz0e8apBGKE610yu06bRPuS_RaInUsTmnoOa85X5StcA',\n",
       " 'YCo263hTlV1ZdlCArlnlZ_pnZTprLIDnCN2n59VjIbSCHg',\n",
       " 'WGDe9j-Ayt4rtgxBywlrNkTskpwZDsc1mjOOeIJLBXNRmw',\n",
       " 'fS5hKKiZnbMLUFAFu1AmKjwutSXceDtSUg-7MrgupCDJpQ',\n",
       " 'L8DaMs48va-F9Jzrua4B3LxqY38J0oxSXf2rVJER4Fn1sg',\n",
       " '-DZoxUFaL3dexXQwMlfReNvdnZ80mNqMjKRbzoPyQHYLHcI',\n",
       " 'DPqqVJqn-W7g9BoVpT_kYro1ucm2lF_C6AkkXktJQXWjbA',\n",
       " 'aUEYT5mzLRNJ5rV_ffUST1P4YqSSjyz2oJ1QsRGoWrQDddY',\n",
       " '47bxCPYl1Z8N6_TehrRM8ypPYf8TVPmZJLfOrPTNmMJtBN49SByS694i',\n",
       " 'HSCVuFJji705FHvgy0TiusFaSrIvtk9n_2JVkuBGuTJJVII',\n",
       " '3WuYMBZhQeDXOkNJVCNtZzrISlUCWAlxRwYTffqv2yTKog',\n",
       " 'AX7UrOjv5NLGFOGIbZVGC3Eu9z2FRtUSjxBwguXLNDmQ23lXH0IXGJ0W',\n",
       " 'hodZpv8gbCr0B_MYcmXrEU0BCGt-noxEzbJQsW4EUFpnGyqFXSpx7AuO',\n",
       " 'tTcyQ4XatHORPzoK-zegdetsIpvtXYeB8ED7Qa7ef8njzi0oli2pBLs5',\n",
       " 'YDQrF2YQ_-3P62hmG39Wwb1E1hlZ2lTqvoQQa0MNmFuR2P_VwBb_5zrL',\n",
       " 'QCu2cr0ew_jMSTbzpmF11Ibur1s3XvBYD4kvMhst13wp9w',\n",
       " 'wAV-V5hgHe2hciQshB4Q3FbDPcuwxDOdHa2ZxqJqbylT70c',\n",
       " 'W7NWpzDsMOIUdNrrKGcP3Eldvkfk7lBL0CM-pwWdot6r-w',\n",
       " 'zkwSs8tG1j8xxOUyMKR_j2a8CYhFYHHVUwe2uLn2ViE2hNvDEi5d_GHg',\n",
       " 'lpIDHpeQGsPfbx5vTEDhgClj1s29aTZUxe4fKghxMfvGZ0TzNQCdCbqw',\n",
       " 'LzuICNajBVXFJzVZeOftTZhetij4WRBbCGXEFRdVZhDghw',\n",
       " 'Ig5xeE9Y80FRsbE-cbwWKCPeUAurflITUAFdGWelM94y_g',\n",
       " 'raEtk1hZJYKK5b3WKQyJLGiAui8B0PQ2bhxJNSp_wsrKUTjkGlCekAr5',\n",
       " '_aCMZWTYqaDR6x5u0Jfao9u4EiFrDlHwgUi2oihcNPh9vfql6HFvVWWt',\n",
       " 'q6_aQS6BWk9_9g4kG_rgIPUKkOGh9NHbYTmqkyyKLqhrQ5L89nBieHBB',\n",
       " '4PdcPlNX0a0UVIwXq2D93Y6Hl9u0HKsJp1yICcwh9i60dAs',\n",
       " 'oXHus8s1MyL12_R_urmltlku0ZLDvir2YmB2vrsx0tKsHgOnc0eTUXGJ',\n",
       " 'yskwx19UwZPMjVrGf2SDgn9gFLIq_BqkqtBO8VTTr2AZDOI',\n",
       " 'UJ_30FaWy3tLx8Cu8qKGzfsv-nec_0Ta7myZjyqNje0y6w',\n",
       " 'UkKsoodSK18DMZ1ARpz8HaUGxH2lxwphgcjRIMNcITwcryXENy3E9ZCi',\n",
       " '7bJkplROULjkVSplGkkrAiF0ogxQHk_U_c-vjgGigZgb6Q',\n",
       " 'vt-TEeEDrWg4WTqKFwMcrCk0Wp-evrEyvbrQRyvUGSXJhWw',\n",
       " 'e3alxaHnxsAEaVe2QdUJXbKXrC4zacI2uDIdp6FMlW19RLA',\n",
       " '4S8dzHMRVJOKneSYU_HVaSeUdtE6iXQhWcF1I3Yav5boodKMYG8Jipib',\n",
       " 'kOiE1C-JMARVJj1kG6GDPvlql2i23CUTrVwufntOMeY',\n",
       " 'CUlm7cAh5aRBGHR9eNfMlw_Kp95cPUdnmOFLAj9BI2TH0bhUqFpq9ajz',\n",
       " 'Szi_pNaEBU6gZgO6_5Z5HdT0rcn8oB_XWJPjlak_b_yG9A',\n",
       " 'c14YKMh7nMbQEhkvz5VTBftkeuKyaTc6qxSR1MJWj4QO4lr81pYCprCP',\n",
       " 'o_flb50x-XPfM1lU-b9VPyf-HI0VFROyjmBlVA8nFxU2IWk',\n",
       " 'o7Z0SLUQnV9OznKfjeRuApzapwd_8WAr68hJq3WVwNEEAQ',\n",
       " 'y5NdKKdA6G_c6XloAwlnwH3mjmMWRp-1JVPVx4kn4XtJ4TxHBfJDgR_O',\n",
       " 'mezQ_v5W_cRFdgRYamhappVAZTaRV_yHp9YVhYJcFMNeAw',\n",
       " 'KdEUlYuZR8aQuQAJ62Ta22l4fUFvV0egA_CaD7XGKfaRcg',\n",
       " 'gGLJ8EdKjn5N2ZYwcqcCe3aTTJq5tmlkDNAA_xoGqpUgeg',\n",
       " 'yarYJIm4EX1at9FIyRDT2LHfNQ8MMwiq4kBdeRbnISRdnA',\n",
       " '7rsXTqhpxNub71YceyH-6-i9is_19rQrocytdDnlQD89qw',\n",
       " 'MoVujhUuv5tEO3ha9jT9QX8nGoL9Umc2bw_8Nmiy25-M1Vg',\n",
       " 'fPG2tm8AENDZvY-NM6svkV8lmBg_PBo53UssjhJBTMN1Shs',\n",
       " 'TAY1Zhzjw-fiY2NAyFZJNBN9GccemvBMmxrlPRdEkD1XeJXwMpaV8tAZ',\n",
       " 'O7DvWOxauIlv5zwt8dCUe-gCgjR_TAVUrCal2IwYte70y2M',\n",
       " 'nQi8ul6HZhRjj4w1s54MX-a1pK0v9jiDLkzB7uQL9y13hfo6-E8bEYZm',\n",
       " 'HUf3KmMeWloNAU7zxQGWgzKgxwot4bRgvhhRae2d00iRAdohrVw1Vbjm',\n",
       " 'gTEaescOh4I724RrVl6XSptMFQ76SX1Z4MqONsodqOio_sEbWXlpZ2zG',\n",
       " 'CjQ_n0NTr0CbcHKP6zY2tHDZ3mFaBHVKVfepD8GzKVrpCkU',\n",
       " 'NwrNswkT4kX2fEeu6FIb8KoYqLP51c2zT1eLf36L0vMOO0Y',\n",
       " 'PeP7_bZD1E5gAZXOYpm36xSG-l7dOJcUjZakpu3G4WLB0Q',\n",
       " 'du9oMnFlywwvIenOEIMbjyGM6AA8GYAPGrRDmOfU8NUwtfFCyfUy40wn',\n",
       " 'GSwkjf-V9OcoqOCFnRpCBPhSKCjPV1_GUTQ0TOkNS9sAeuc',\n",
       " 'Cm-W16Uc2McPAiX8rKMwkN5pHmjnxYkhUNK4ivpyqCuffg',\n",
       " '1Elry77_UY-11aRaFVWiXRrZ3LOTzGxz-RLTMzw3GnbF1w',\n",
       " 'cQOzYS3iYuuSmpFIlc9iJctLQgdHXc7uNUGkDdtKimW9nA',\n",
       " 'W2kO-Mhh6DZvTlLzpa8La5E-pKn9tIQ8ToNRjygEQ73IFEItOWJN64vP',\n",
       " '9J_yJwpi1SmYpJL2hAml9ej2M_X9gszuoiz541PMh2jpPo46BpajTCdw',\n",
       " 'ke4VWxduvdMIPblYDkZstL3QRZcrJIDgzwLJ0aNS25tD2qN7Lf8I6VcN',\n",
       " '4HNiPP5lC5GxgeY0YL9OacqQMpTSlBN3_x_-9lFRu0HjtQ',\n",
       " 'KxiR9_3AX-md2SXBcM1p5KUdnrpXbEguKfxgUKLJk32tO3TvObW1gNBn',\n",
       " 'yLHuoPUyNlnc1vkOVg7-JamOly11LDDHv-l5NQt_30Sm0wM',\n",
       " '-dPXso9LHasdh4Di0rNMyFwLzCeJh9gpvmH7daDGEOK2J0c',\n",
       " 'FW35a5vaugFrrRhHh2_zf00yJBO9wRWgxVbhIEGyg14IWco',\n",
       " 'FdlZ1vyc9nnX6Gtl2UFScFTaej3Qvbwyt8PKYtUXtM-8sHg',\n",
       " '5KKMcys911XDoAEcwX2xfOVeDh42uJnt8c1olXafG9pfp9A',\n",
       " 'pYcF8bowIQYkQuJQgmPsChPYZCqrZeLtDyiFxnfPM9Izj6M',\n",
       " '7-j8Vuq9-xmrZsZpqVOayqCeVUUOW9cI3D8GVfIZq6pIlIs',\n",
       " 'r0R4ffpPrx96n6yIIR00NyCZpFAxHvCrqdJfdRQ5NMKB7A',\n",
       " 'EItDpXdYY4qt5nGHS_05RNpmHy__cyvryp1_d2jxeyZrAYw',\n",
       " '8H9MKjNYVKRjBGBlfLK9YMWdL2BLAkQS5jGVU9Xkyq15j4M04sEUBfDZ']"
      ]
     },
     "execution_count": 6,
     "metadata": {},
     "output_type": "execute_result"
    }
   ],
   "source": [
    "accids"
   ]
  },
  {
   "cell_type": "code",
   "execution_count": null,
   "metadata": {},
   "outputs": [],
   "source": [
    "# get game ids from match history via match-api\n",
    "# 1.3 delay bc long list\n",
    "\n",
    "gamids = []\n",
    "\n",
    "for acc in accids:\n",
    "    matlreq = requests.get(\"https://euw1.api.riotgames.com/lol/match/v4/matchlists/by-account/{}?api_key={}\"\n",
    "                           .format(acc,apikey),time.sleep(1.5))\n",
    "    assert matlreq.status_code == 200\n",
    "    gamids += [d['gameId'] for d in matlreq.json()['matches']]"
   ]
  },
  {
   "cell_type": "code",
   "execution_count": 12,
   "metadata": {},
   "outputs": [
    {
     "data": {
      "text/plain": [
       "504"
      ]
     },
     "execution_count": 12,
     "metadata": {},
     "output_type": "execute_result"
    }
   ],
   "source": [
    "matlreq.status_code"
   ]
  },
  {
   "cell_type": "code",
   "execution_count": 14,
   "metadata": {},
   "outputs": [
    {
     "data": {
      "text/plain": [
       "15900"
      ]
     },
     "execution_count": 14,
     "metadata": {},
     "output_type": "execute_result"
    }
   ],
   "source": [
    "len(gamids)"
   ]
  },
  {
   "cell_type": "code",
   "execution_count": null,
   "metadata": {},
   "outputs": [],
   "source": [
    "# print original length, then correct overlap from shared games and print new length\n",
    "\n",
    "print(len(gamids))\n",
    "\n",
    "gamids = set(gamids)\n",
    "\n",
    "print(len(gamids))"
   ]
  },
  {
   "cell_type": "code",
   "execution_count": null,
   "metadata": {},
   "outputs": [],
   "source": []
  },
  {
   "cell_type": "code",
   "execution_count": 35,
   "metadata": {},
   "outputs": [],
   "source": [
    "with open('euw_chall_gam_id_list.txt', 'r') as f:\n",
    "    challgames = f.read().splitlines()"
   ]
  },
  {
   "cell_type": "code",
   "execution_count": 46,
   "metadata": {},
   "outputs": [],
   "source": [
    "challgames =set([int(e) for e in challgames])"
   ]
  },
  {
   "cell_type": "code",
   "execution_count": 47,
   "metadata": {},
   "outputs": [
    {
     "data": {
      "text/plain": [
       "10446"
      ]
     },
     "execution_count": 47,
     "metadata": {},
     "output_type": "execute_result"
    }
   ],
   "source": [
    "len(challgames)"
   ]
  },
  {
   "cell_type": "code",
   "execution_count": 48,
   "metadata": {},
   "outputs": [
    {
     "data": {
      "text/plain": [
       "14557"
      ]
     },
     "execution_count": 48,
     "metadata": {},
     "output_type": "execute_result"
    }
   ],
   "source": [
    "len(gamids)"
   ]
  },
  {
   "cell_type": "code",
   "execution_count": 52,
   "metadata": {},
   "outputs": [
    {
     "data": {
      "text/plain": [
       "10724"
      ]
     },
     "execution_count": 52,
     "metadata": {},
     "output_type": "execute_result"
    }
   ],
   "source": [
    "len(gamids - (challgames & gamids))"
   ]
  },
  {
   "cell_type": "code",
   "execution_count": 53,
   "metadata": {},
   "outputs": [],
   "source": [
    "gamids = gamids - (challgames & gamids)"
   ]
  },
  {
   "cell_type": "code",
   "execution_count": 54,
   "metadata": {
    "scrolled": false
   },
   "outputs": [],
   "source": [
    "# get individual match information from gamids list via match-api\n",
    "# 1.5 delay bc long list and repeated issues with \n",
    "\n",
    "matchlist = []\n",
    "\n",
    "for gam in gamids:\n",
    "    gamreq = requests.get(\"https://euw1.api.riotgames.com/lol/match/v4/matches/{}?api_key={}\"\n",
    "                          .format(gam,apikey),time.sleep(1.3))\n",
    "    \n",
    "    i=0\n",
    "    while gamreq.status_code != 200:\n",
    "        gamreq = requests.get(\"https://euw1.api.riotgames.com/lol/match/v4/matches/{}?api_key={}\"\n",
    "                          .format(gam,apikey),time.sleep(1.3))\n",
    "        i+=1\n",
    "        if i == 5:\n",
    "            break\n",
    "            \n",
    "    match = flatten(gamreq.json())\n",
    "    matchlist.append(match)"
   ]
  },
  {
   "cell_type": "code",
   "execution_count": 55,
   "metadata": {},
   "outputs": [
    {
     "data": {
      "text/plain": [
       "200"
      ]
     },
     "execution_count": 55,
     "metadata": {},
     "output_type": "execute_result"
    }
   ],
   "source": [
    "gamreq.status_code"
   ]
  },
  {
   "cell_type": "code",
   "execution_count": 56,
   "metadata": {},
   "outputs": [
    {
     "data": {
      "text/plain": [
       "(10724, 1550, 133)"
      ]
     },
     "execution_count": 56,
     "metadata": {},
     "output_type": "execute_result"
    }
   ],
   "source": [
    "# check length of matchlist \n",
    "\n",
    "check = [len(m) for m in matchlist]\n",
    "len(matchlist),max(check),min(check)"
   ]
  },
  {
   "cell_type": "code",
   "execution_count": 57,
   "metadata": {},
   "outputs": [],
   "source": [
    "# create df from matches\n",
    "\n",
    "df = pd.DataFrame(matchlist)"
   ]
  },
  {
   "cell_type": "code",
   "execution_count": 68,
   "metadata": {},
   "outputs": [],
   "source": [
    "gmgames = list(df['gameId'])"
   ]
  },
  {
   "cell_type": "code",
   "execution_count": 69,
   "metadata": {},
   "outputs": [],
   "source": [
    "with open('gm_gam_id_list.txt', 'w') as f:\n",
    "    for item in gmgames:\n",
    "        f.write(\"%s\\n\" % item)"
   ]
  },
  {
   "cell_type": "code",
   "execution_count": 61,
   "metadata": {},
   "outputs": [
    {
     "data": {
      "text/plain": [
       "10724"
      ]
     },
     "execution_count": 61,
     "metadata": {},
     "output_type": "execute_result"
    }
   ],
   "source": [
    "len(set(list(df['gameId'])))"
   ]
  },
  {
   "cell_type": "code",
   "execution_count": 63,
   "metadata": {},
   "outputs": [],
   "source": [
    "compression_opts = dict(method='zip',\n",
    "                        archive_name='gm.csv')  "
   ]
  },
  {
   "cell_type": "code",
   "execution_count": 64,
   "metadata": {},
   "outputs": [],
   "source": [
    "df.to_csv('gm.zip', index=False,\n",
    "          compression=compression_opts)"
   ]
  },
  {
   "cell_type": "code",
   "execution_count": null,
   "metadata": {},
   "outputs": [],
   "source": []
  }
 ],
 "metadata": {
  "kernelspec": {
   "display_name": "Python 3",
   "language": "python",
   "name": "python3"
  },
  "language_info": {
   "codemirror_mode": {
    "name": "ipython",
    "version": 3
   },
   "file_extension": ".py",
   "mimetype": "text/x-python",
   "name": "python",
   "nbconvert_exporter": "python",
   "pygments_lexer": "ipython3",
   "version": "3.7.6"
  }
 },
 "nbformat": 4,
 "nbformat_minor": 4
}
